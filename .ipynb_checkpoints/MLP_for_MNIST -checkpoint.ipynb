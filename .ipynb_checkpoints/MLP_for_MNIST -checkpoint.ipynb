{
 "cells": [
  {
   "cell_type": "code",
   "execution_count": 1,
   "metadata": {},
   "outputs": [],
   "source": [
    "import torch\n",
    "import torch.nn as nn\n",
    "from torch.autograd import Variable\n",
    "import torchvision.datasets as dset\n",
    "import torchvision.transforms as transforms\n",
    "import torch.nn.functional as F\n",
    "import torch.optim as optim"
   ]
  },
  {
   "cell_type": "markdown",
   "metadata": {},
   "source": [
    "# Load MNIST Dataset"
   ]
  },
  {
   "cell_type": "code",
   "execution_count": 2,
   "metadata": {},
   "outputs": [],
   "source": [
    "trans = transforms.Compose([transforms.ToTensor(), transforms.Normalize((0.5,), (1.0,))])\n",
    "train_set = dset.MNIST(root='./data', train=True, transform=trans, download=True)\n",
    "test_set = dset.MNIST(root='./data', train=False, transform=trans)\n",
    "\n",
    "batch_size = 128\n",
    "\n",
    "train_loader = torch.utils.data.DataLoader(\n",
    "                 dataset=train_set,\n",
    "                 batch_size=batch_size,\n",
    "                 shuffle=True)\n",
    "test_loader = torch.utils.data.DataLoader(\n",
    "                dataset=test_set,\n",
    "                batch_size=batch_size,\n",
    "                shuffle=False)\n"
   ]
  },
  {
   "cell_type": "markdown",
   "metadata": {},
   "source": [
    "# Build MLP Model\n",
    "![](images/MLP.png)"
   ]
  },
  {
   "cell_type": "code",
   "execution_count": 3,
   "metadata": {},
   "outputs": [],
   "source": [
    "class MLP(nn.Module):\n",
    "    def __init__(self,n_class=10):\n",
    "        super(MLP, self).__init__()\n",
    "        \n",
    "        self.fc = nn.Sequential(\n",
    "            nn.Linear(28*28,64),\n",
    "            nn.ReLU(inplace=True),\n",
    "            nn.Linear(64,n_class)\n",
    "        )\n",
    "        \n",
    "        \"\"\"\n",
    "        self.fc1 = nn.Linear(28*28,64)\n",
    "        self.relu = nn.ReLU(inplace=True)\n",
    "        slef.fc2 = nn.Linear(64,n_class)\n",
    "        \"\"\"\n",
    "        \n",
    "    def forward(self, x):\n",
    "        x = x.view(-1,28*28)      # x:(batch_size,1,28,28) => x:(batch_size,28*28)\n",
    "        logits = self.fc(x)\n",
    "        return logits\n"
   ]
  },
  {
   "cell_type": "markdown",
   "metadata": {},
   "source": [
    "# Training"
   ]
  },
  {
   "cell_type": "code",
   "execution_count": 4,
   "metadata": {
    "scrolled": true
   },
   "outputs": [
    {
     "name": "stdout",
     "output_type": "stream",
     "text": [
      "==>>> epoch: 0, batch index: 100, train loss: 0.599243\n",
      "==>>> epoch: 0, batch index: 200, train loss: 0.370671\n",
      "==>>> epoch: 0, batch index: 300, train loss: 0.356554\n",
      "==>>> epoch: 0, batch index: 400, train loss: 0.363393\n",
      "==>>> epoch: 0, batch index: 469, train loss: 0.328055\n",
      "==>>> epoch: 0, batch index: 79, test loss: 0.258991, acc: 0.904\n",
      "==>>> epoch: 1, batch index: 100, train loss: 0.330634\n",
      "==>>> epoch: 1, batch index: 200, train loss: 0.321183\n",
      "==>>> epoch: 1, batch index: 300, train loss: 0.289736\n",
      "==>>> epoch: 1, batch index: 400, train loss: 0.268071\n",
      "==>>> epoch: 1, batch index: 469, train loss: 0.252494\n",
      "==>>> epoch: 1, batch index: 79, test loss: 0.196113, acc: 0.928\n",
      "==>>> epoch: 2, batch index: 100, train loss: 0.245743\n",
      "==>>> epoch: 2, batch index: 200, train loss: 0.261259\n",
      "==>>> epoch: 2, batch index: 300, train loss: 0.216066\n",
      "==>>> epoch: 2, batch index: 400, train loss: 0.228394\n",
      "==>>> epoch: 2, batch index: 469, train loss: 0.218366\n",
      "==>>> epoch: 2, batch index: 79, test loss: 0.174592, acc: 0.940\n",
      "==>>> epoch: 3, batch index: 100, train loss: 0.211513\n",
      "==>>> epoch: 3, batch index: 200, train loss: 0.202970\n",
      "==>>> epoch: 3, batch index: 300, train loss: 0.208592\n",
      "==>>> epoch: 3, batch index: 400, train loss: 0.194829\n",
      "==>>> epoch: 3, batch index: 469, train loss: 0.205181\n",
      "==>>> epoch: 3, batch index: 79, test loss: 0.153898, acc: 0.946\n",
      "==>>> epoch: 4, batch index: 100, train loss: 0.187758\n",
      "==>>> epoch: 4, batch index: 200, train loss: 0.180585\n",
      "==>>> epoch: 4, batch index: 300, train loss: 0.159085\n",
      "==>>> epoch: 4, batch index: 400, train loss: 0.167744\n",
      "==>>> epoch: 4, batch index: 469, train loss: 0.169181\n",
      "==>>> epoch: 4, batch index: 79, test loss: 0.135267, acc: 0.953\n",
      "==>>> epoch: 5, batch index: 100, train loss: 0.159098\n",
      "==>>> epoch: 5, batch index: 200, train loss: 0.164427\n",
      "==>>> epoch: 5, batch index: 300, train loss: 0.139629\n",
      "==>>> epoch: 5, batch index: 400, train loss: 0.140556\n",
      "==>>> epoch: 5, batch index: 469, train loss: 0.125588\n",
      "==>>> epoch: 5, batch index: 79, test loss: 0.116259, acc: 0.955\n",
      "==>>> epoch: 6, batch index: 100, train loss: 0.148984\n",
      "==>>> epoch: 6, batch index: 200, train loss: 0.135226\n",
      "==>>> epoch: 6, batch index: 300, train loss: 0.133943\n",
      "==>>> epoch: 6, batch index: 400, train loss: 0.122036\n",
      "==>>> epoch: 6, batch index: 469, train loss: 0.143205\n",
      "==>>> epoch: 6, batch index: 79, test loss: 0.105893, acc: 0.961\n",
      "==>>> epoch: 7, batch index: 100, train loss: 0.133927\n",
      "==>>> epoch: 7, batch index: 200, train loss: 0.123254\n",
      "==>>> epoch: 7, batch index: 300, train loss: 0.121076\n",
      "==>>> epoch: 7, batch index: 400, train loss: 0.122905\n",
      "==>>> epoch: 7, batch index: 469, train loss: 0.104411\n",
      "==>>> epoch: 7, batch index: 79, test loss: 0.102268, acc: 0.964\n",
      "==>>> epoch: 8, batch index: 100, train loss: 0.115793\n",
      "==>>> epoch: 8, batch index: 200, train loss: 0.096669\n",
      "==>>> epoch: 8, batch index: 300, train loss: 0.113776\n",
      "==>>> epoch: 8, batch index: 400, train loss: 0.105894\n",
      "==>>> epoch: 8, batch index: 469, train loss: 0.123020\n",
      "==>>> epoch: 8, batch index: 79, test loss: 0.093373, acc: 0.964\n",
      "==>>> epoch: 9, batch index: 100, train loss: 0.113643\n",
      "==>>> epoch: 9, batch index: 200, train loss: 0.082132\n",
      "==>>> epoch: 9, batch index: 300, train loss: 0.088241\n",
      "==>>> epoch: 9, batch index: 400, train loss: 0.110494\n",
      "==>>> epoch: 9, batch index: 469, train loss: 0.114367\n",
      "==>>> epoch: 9, batch index: 79, test loss: 0.094177, acc: 0.963\n"
     ]
    }
   ],
   "source": [
    "model = MLP()\n",
    "criterion = nn.CrossEntropyLoss()\n",
    "optimizer = optim.Adam(model.parameters(), lr=1e-3)\n",
    "\n",
    "for epoch in xrange(10):\n",
    "    # trainning\n",
    "    ave_loss = 0\n",
    "    for batch_idx, (x, target) in enumerate(train_loader):\n",
    "        optimizer.zero_grad()\n",
    "        x, target = Variable(x), Variable(target)\n",
    "        logits = model(x)\n",
    "        loss = criterion(logits, target)\n",
    "        ave_loss = ave_loss * 0.9 + loss.data[0] * 0.1\n",
    "        loss.backward()\n",
    "        optimizer.step()\n",
    "        if (batch_idx+1) % 100 == 0 or (batch_idx+1) == len(train_loader):\n",
    "            print '==>>> epoch: {}, batch index: {}, train loss: {:.6f}'.format(\n",
    "                epoch, batch_idx+1, ave_loss)\n",
    "    # testing\n",
    "    correct_cnt, ave_loss = 0, 0\n",
    "    total_cnt = 0\n",
    "    for batch_idx, (x, target) in enumerate(test_loader):\n",
    "        x, target = Variable(x, volatile=True), Variable(target, volatile=True)\n",
    "        logits = model(x)\n",
    "        loss = criterion(logits, target)\n",
    "        _, pred_label = torch.max(logits.data, 1)\n",
    "        total_cnt += x.data.size()[0]\n",
    "        correct_cnt += (pred_label == target.data).sum()\n",
    "        # smooth average\n",
    "        ave_loss = ave_loss * 0.9 + loss.data[0] * 0.1\n",
    "        \n",
    "        if(batch_idx+1) % 100 == 0 or (batch_idx+1) == len(test_loader):\n",
    "            print '==>>> epoch: {}, batch index: {}, test loss: {:.6f}, acc: {:.3f}'.format(\n",
    "                epoch, batch_idx+1, ave_loss, correct_cnt * 1.0 / total_cnt)"
   ]
  }
 ],
 "metadata": {
  "celltoolbar": "Tags",
  "kernelspec": {
   "display_name": "Python 2",
   "language": "python",
   "name": "python2"
  },
  "language_info": {
   "codemirror_mode": {
    "name": "ipython",
    "version": 2
   },
   "file_extension": ".py",
   "mimetype": "text/x-python",
   "name": "python",
   "nbconvert_exporter": "python",
   "pygments_lexer": "ipython2",
   "version": "2.7.12"
  }
 },
 "nbformat": 4,
 "nbformat_minor": 2
}
