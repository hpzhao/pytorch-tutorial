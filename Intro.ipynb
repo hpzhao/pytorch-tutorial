{
 "cells": [
  {
   "cell_type": "markdown",
   "metadata": {},
   "source": [
    "# Toy Model\n",
    "![](images/Toy.png)"
   ]
  },
  {
   "cell_type": "code",
   "execution_count": 1,
   "metadata": {},
   "outputs": [],
   "source": [
    "import torch\n",
    "from torch.autograd import Variable"
   ]
  },
  {
   "cell_type": "code",
   "execution_count": 2,
   "metadata": {},
   "outputs": [],
   "source": [
    "a = Variable(torch.LongTensor([2]),requires_grad=True)\n",
    "b = Variable(torch.LongTensor([1]),requires_grad=True)\n",
    "c = a + b\n",
    "d = b + 1\n",
    "e = c * d"
   ]
  },
  {
   "cell_type": "code",
   "execution_count": 3,
   "metadata": {},
   "outputs": [
    {
     "name": "stdout",
     "output_type": "stream",
     "text": [
      "Variable containing:\n",
      " 2\n",
      "[torch.LongTensor of size 1]\n",
      " Variable containing:\n",
      " 1\n",
      "[torch.LongTensor of size 1]\n",
      " Variable containing:\n",
      " 3\n",
      "[torch.LongTensor of size 1]\n",
      " Variable containing:\n",
      " 2\n",
      "[torch.LongTensor of size 1]\n",
      " Variable containing:\n",
      " 6\n",
      "[torch.LongTensor of size 1]\n",
      "\n"
     ]
    }
   ],
   "source": [
    "print a,b,c,d,e"
   ]
  },
  {
   "cell_type": "code",
   "execution_count": 4,
   "metadata": {},
   "outputs": [],
   "source": [
    "e.backward()"
   ]
  },
  {
   "cell_type": "code",
   "execution_count": 5,
   "metadata": {},
   "outputs": [
    {
     "name": "stdout",
     "output_type": "stream",
     "text": [
      "\n",
      " 2\n",
      "[torch.LongTensor of size 1]\n",
      " \n",
      " 5\n",
      "[torch.LongTensor of size 1]\n",
      "\n"
     ]
    }
   ],
   "source": [
    "print a.grad.data,b.grad.data"
   ]
  },
  {
   "cell_type": "markdown",
   "metadata": {},
   "source": [
    "# Load dataset"
   ]
  },
  {
   "cell_type": "code",
   "execution_count": 6,
   "metadata": {},
   "outputs": [],
   "source": [
    "import torch\n",
    "import torch.nn as nn\n",
    "from torch.utils.data import Dataset,DataLoader"
   ]
  },
  {
   "cell_type": "code",
   "execution_count": 7,
   "metadata": {},
   "outputs": [],
   "source": [
    "class MyData(Dataset):\n",
    "    def __init__(self):\n",
    "        super(MyData,self).__init__()\n",
    "        ex1 = {'sent':'Nice to meet you','label':1}\n",
    "        ex2 = {'sent':'I hate you','label':0}\n",
    "        self.examples = [ex1,ex2]\n",
    "    def __len__(self):\n",
    "        return len(self.examples)\n",
    "    def __getitem__(self,index):\n",
    "        return self.examples[index]\n",
    "    "
   ]
  },
  {
   "cell_type": "code",
   "execution_count": 8,
   "metadata": {},
   "outputs": [
    {
     "name": "stdout",
     "output_type": "stream",
     "text": [
      "{'sent': ['Nice to meet you', 'I hate you'], 'label': \n",
      " 1\n",
      " 0\n",
      "[torch.LongTensor of size 2]\n",
      "}\n"
     ]
    }
   ],
   "source": [
    "dataset = MyData()\n",
    "data_iter = DataLoader(dataset=dataset,batch_size=2,shuffle=True)\n",
    "for batch in data_iter:\n",
    "    print batch"
   ]
  },
  {
   "cell_type": "markdown",
   "metadata": {},
   "source": [
    "# How to build a model"
   ]
  },
  {
   "cell_type": "code",
   "execution_count": 9,
   "metadata": {},
   "outputs": [],
   "source": [
    "import torch\n",
    "import torch.nn as nn"
   ]
  },
  {
   "cell_type": "code",
   "execution_count": 10,
   "metadata": {},
   "outputs": [],
   "source": [
    "class Net(nn.Module):\n",
    "    def __init__(self):\n",
    "        super(Net,self).__init__()\n",
    "        self.fc = nn.Linear(10,2)\n",
    "    def forward(self,x):\n",
    "        return self.fc(x)\n"
   ]
  },
  {
   "cell_type": "code",
   "execution_count": 11,
   "metadata": {},
   "outputs": [
    {
     "name": "stdout",
     "output_type": "stream",
     "text": [
      "Variable containing:\n",
      "-0.3891 -0.2943\n",
      "-0.5668 -0.4785\n",
      "[torch.FloatTensor of size 2x2]\n",
      "\n"
     ]
    }
   ],
   "source": [
    "net = Net()\n",
    "x = torch.autograd.Variable(torch.randn(2,10))\n",
    "print net(x)"
   ]
  },
  {
   "cell_type": "markdown",
   "metadata": {},
   "source": [
    "# How to train a model"
   ]
  },
  {
   "cell_type": "code",
   "execution_count": 12,
   "metadata": {},
   "outputs": [],
   "source": [
    "net = Net()\n",
    "criterion = nn.CrossEntropyLoss()\n",
    "optimizer = torch.optim.Adam(net.parameters(),lr=1e-3)\n",
    "\n",
    "for epoch in range(10):\n",
    "    '''\n",
    "    for x,y in data_loader:\n",
    "        x,y = Variable(x),Variable(y)\n",
    "        x = net(x)\n",
    "        loss = criterion(x,y)\n",
    "        optimizer.zero_grad()\n",
    "        loss.backward()\n",
    "        optimizer.step()\n",
    "        ...\n",
    "        \n",
    "    '''"
   ]
  }
 ],
 "metadata": {
  "kernelspec": {
   "display_name": "Python 2",
   "language": "python",
   "name": "python2"
  },
  "language_info": {
   "codemirror_mode": {
    "name": "ipython",
    "version": 2
   },
   "file_extension": ".py",
   "mimetype": "text/x-python",
   "name": "python",
   "nbconvert_exporter": "python",
   "pygments_lexer": "ipython2",
   "version": "2.7.12"
  }
 },
 "nbformat": 4,
 "nbformat_minor": 2
}
