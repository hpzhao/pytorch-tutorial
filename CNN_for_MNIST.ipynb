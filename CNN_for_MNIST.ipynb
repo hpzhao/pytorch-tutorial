{
 "cells": [
  {
   "cell_type": "code",
   "execution_count": 1,
   "metadata": {},
   "outputs": [],
   "source": [
    "import torch\n",
    "import torch.nn as nn\n",
    "from torch.autograd import Variable\n",
    "import torchvision.datasets as dset\n",
    "import torchvision.transforms as transforms\n",
    "import torch.nn.functional as F\n",
    "import torch.optim as optim"
   ]
  },
  {
   "cell_type": "markdown",
   "metadata": {},
   "source": [
    "# Load MNIST Dataset"
   ]
  },
  {
   "cell_type": "code",
   "execution_count": 2,
   "metadata": {},
   "outputs": [],
   "source": [
    "trans = transforms.Compose([transforms.ToTensor(), transforms.Normalize((0.5,), (1.0,))])\n",
    "train_set = dset.MNIST(root='./data', train=True, transform=trans, download=True)\n",
    "test_set = dset.MNIST(root='./data', train=False, transform=trans)\n",
    "\n",
    "batch_size = 128\n",
    "\n",
    "train_loader = torch.utils.data.DataLoader(\n",
    "                 dataset=train_set,\n",
    "                 batch_size=batch_size,\n",
    "                 shuffle=True)\n",
    "test_loader = torch.utils.data.DataLoader(\n",
    "                dataset=test_set,\n",
    "                batch_size=batch_size,\n",
    "                shuffle=False)\n"
   ]
  },
  {
   "cell_type": "markdown",
   "metadata": {},
   "source": [
    "# Build CNN Model\n",
    "![](images/CNN.png)"
   ]
  },
  {
   "cell_type": "code",
   "execution_count": 3,
   "metadata": {},
   "outputs": [],
   "source": [
    "class LeNet(nn.Module):\n",
    "    def __init__(self,n_class=10):\n",
    "        super(LeNet, self).__init__()\n",
    "        self.conv1 = nn.Conv2d(\n",
    "            in_channels = 1,\n",
    "            out_channels = 20,\n",
    "            kernel_size = 5\n",
    "        )\n",
    "        self.conv2 = nn.Conv2d(\n",
    "            in_channels = 20,\n",
    "            out_channels = 50,\n",
    "            kernel_size = 5\n",
    "        ) \n",
    "        self.fc1 = nn.Linear(4*4*50, 500)\n",
    "        self.fc2 = nn.Linear(500, n_class)\n",
    "    def forward(self, x):\n",
    "        x = F.relu(self.conv1(x))   # x:[batch_size,1,28,28] => x:[batch_size,20, 24, 24]\n",
    "        x = F.max_pool2d(x, 2, 2)   # x:[batch_size,20,24,24] => x:[batch_size,20, 12, 12]\n",
    "        x = F.relu(self.conv2(x))   # x:[batch_size,20,12,12] => x:[batch_size,50, 8, 8]\n",
    "        x = F.max_pool2d(x, 2, 2)   # x:[batch_size,50,8,8] => x:[batch_size,50, 4, 4]\n",
    "        x = x.view(-1, 4*4*50)      # x:[batch_size,50,4,4] => x:[batch_size,50*4*4]\n",
    "        x = F.relu(self.fc1(x))     # x:[batch_size,50*4*4] => x:[batch_size,500]\n",
    "        x = self.fc2(x)             # x:[batch_size,500] => x:[batch_size,10]\n",
    "        return x\n"
   ]
  },
  {
   "cell_type": "markdown",
   "metadata": {},
   "source": [
    "# Training"
   ]
  },
  {
   "cell_type": "code",
   "execution_count": 4,
   "metadata": {},
   "outputs": [
    {
     "name": "stdout",
     "output_type": "stream",
     "text": [
      "==>>> epoch: 0, batch index: 100, train loss: 0.203049\n",
      "==>>> epoch: 0, batch index: 200, train loss: 0.092486\n",
      "==>>> epoch: 0, batch index: 300, train loss: 0.076701\n",
      "==>>> epoch: 0, batch index: 400, train loss: 0.078407\n",
      "==>>> epoch: 0, batch index: 469, train loss: 0.062016\n",
      "==>>> epoch: 0, batch index: 79, test loss: 0.028026, acc: 0.986\n",
      "==>>> epoch: 1, batch index: 100, train loss: 0.043321\n",
      "==>>> epoch: 1, batch index: 200, train loss: 0.057436\n",
      "==>>> epoch: 1, batch index: 300, train loss: 0.051468\n",
      "==>>> epoch: 1, batch index: 400, train loss: 0.047724\n",
      "==>>> epoch: 1, batch index: 469, train loss: 0.034381\n",
      "==>>> epoch: 1, batch index: 79, test loss: 0.024080, acc: 0.989\n",
      "==>>> epoch: 2, batch index: 100, train loss: 0.035867\n",
      "==>>> epoch: 2, batch index: 200, train loss: 0.035561\n",
      "==>>> epoch: 2, batch index: 300, train loss: 0.022927\n",
      "==>>> epoch: 2, batch index: 400, train loss: 0.037693\n",
      "==>>> epoch: 2, batch index: 469, train loss: 0.046425\n",
      "==>>> epoch: 2, batch index: 79, test loss: 0.019010, acc: 0.991\n",
      "==>>> epoch: 3, batch index: 100, train loss: 0.024797\n",
      "==>>> epoch: 3, batch index: 200, train loss: 0.028838\n",
      "==>>> epoch: 3, batch index: 300, train loss: 0.024071\n",
      "==>>> epoch: 3, batch index: 400, train loss: 0.024293\n",
      "==>>> epoch: 3, batch index: 469, train loss: 0.026609\n",
      "==>>> epoch: 3, batch index: 79, test loss: 0.016128, acc: 0.991\n",
      "==>>> epoch: 4, batch index: 100, train loss: 0.016640\n",
      "==>>> epoch: 4, batch index: 200, train loss: 0.014833\n",
      "==>>> epoch: 4, batch index: 300, train loss: 0.024794\n",
      "==>>> epoch: 4, batch index: 400, train loss: 0.014885\n",
      "==>>> epoch: 4, batch index: 469, train loss: 0.012730\n",
      "==>>> epoch: 4, batch index: 79, test loss: 0.018735, acc: 0.992\n",
      "==>>> epoch: 5, batch index: 100, train loss: 0.010845\n",
      "==>>> epoch: 5, batch index: 200, train loss: 0.010690\n",
      "==>>> epoch: 5, batch index: 300, train loss: 0.016850\n",
      "==>>> epoch: 5, batch index: 400, train loss: 0.013051\n",
      "==>>> epoch: 5, batch index: 469, train loss: 0.013661\n",
      "==>>> epoch: 5, batch index: 79, test loss: 0.014239, acc: 0.993\n",
      "==>>> epoch: 6, batch index: 100, train loss: 0.010584\n",
      "==>>> epoch: 6, batch index: 200, train loss: 0.011003\n",
      "==>>> epoch: 6, batch index: 300, train loss: 0.011142\n",
      "==>>> epoch: 6, batch index: 400, train loss: 0.015583\n",
      "==>>> epoch: 6, batch index: 469, train loss: 0.013250\n",
      "==>>> epoch: 6, batch index: 79, test loss: 0.023883, acc: 0.991\n",
      "==>>> epoch: 7, batch index: 100, train loss: 0.010461\n",
      "==>>> epoch: 7, batch index: 200, train loss: 0.005613\n",
      "==>>> epoch: 7, batch index: 300, train loss: 0.014455\n",
      "==>>> epoch: 7, batch index: 400, train loss: 0.011743\n",
      "==>>> epoch: 7, batch index: 469, train loss: 0.009485\n",
      "==>>> epoch: 7, batch index: 79, test loss: 0.025568, acc: 0.991\n",
      "==>>> epoch: 8, batch index: 100, train loss: 0.005729\n",
      "==>>> epoch: 8, batch index: 200, train loss: 0.005440\n",
      "==>>> epoch: 8, batch index: 300, train loss: 0.013062\n",
      "==>>> epoch: 8, batch index: 400, train loss: 0.006019\n",
      "==>>> epoch: 8, batch index: 469, train loss: 0.011531\n",
      "==>>> epoch: 8, batch index: 79, test loss: 0.016222, acc: 0.993\n",
      "==>>> epoch: 9, batch index: 100, train loss: 0.004132\n",
      "==>>> epoch: 9, batch index: 200, train loss: 0.002503\n",
      "==>>> epoch: 9, batch index: 300, train loss: 0.007654\n",
      "==>>> epoch: 9, batch index: 400, train loss: 0.009748\n",
      "==>>> epoch: 9, batch index: 469, train loss: 0.009823\n",
      "==>>> epoch: 9, batch index: 79, test loss: 0.020044, acc: 0.992\n"
     ]
    }
   ],
   "source": [
    "model = LeNet()\n",
    "criterion = nn.CrossEntropyLoss()\n",
    "optimizer = optim.Adam(model.parameters(), lr=1e-3)\n",
    "\n",
    "for epoch in xrange(10):\n",
    "    # trainning\n",
    "    ave_loss = 0\n",
    "    for batch_idx, (x, target) in enumerate(train_loader):\n",
    "        optimizer.zero_grad()\n",
    "        x, target = Variable(x), Variable(target)\n",
    "        logits = model(x)\n",
    "        exit()\n",
    "        loss = criterion(logits, target)\n",
    "        ave_loss = ave_loss * 0.9 + loss.data[0] * 0.1\n",
    "        loss.backward()\n",
    "        optimizer.step()\n",
    "        if (batch_idx+1) % 100 == 0 or (batch_idx+1) == len(train_loader):\n",
    "            print '==>>> epoch: {}, batch index: {}, train loss: {:.6f}'.format(\n",
    "                epoch, batch_idx+1, ave_loss)\n",
    "    # testing\n",
    "    correct_cnt, ave_loss = 0, 0\n",
    "    total_cnt = 0\n",
    "    for batch_idx, (x, target) in enumerate(test_loader):\n",
    "        x, target = Variable(x, volatile=True), Variable(target, volatile=True)\n",
    "        logits = model(x)\n",
    "        loss = criterion(logits, target)\n",
    "        _, pred_label = torch.max(logits.data, 1)\n",
    "        total_cnt += x.data.size()[0]\n",
    "        correct_cnt += (pred_label == target.data).sum()\n",
    "        # smooth average\n",
    "        ave_loss = ave_loss * 0.9 + loss.data[0] * 0.1\n",
    "        \n",
    "        if(batch_idx+1) % 100 == 0 or (batch_idx+1) == len(test_loader):\n",
    "            print '==>>> epoch: {}, batch index: {}, test loss: {:.6f}, acc: {:.3f}'.format(\n",
    "                epoch, batch_idx+1, ave_loss, correct_cnt * 1.0 / total_cnt)"
   ]
  }
 ],
 "metadata": {
  "celltoolbar": "Tags",
  "kernelspec": {
   "display_name": "Python 2",
   "language": "python",
   "name": "python2"
  },
  "language_info": {
   "codemirror_mode": {
    "name": "ipython",
    "version": 2
   },
   "file_extension": ".py",
   "mimetype": "text/x-python",
   "name": "python",
   "nbconvert_exporter": "python",
   "pygments_lexer": "ipython2",
   "version": "2.7.12"
  }
 },
 "nbformat": 4,
 "nbformat_minor": 2
}
