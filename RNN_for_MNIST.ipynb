{
 "cells": [
  {
   "cell_type": "code",
   "execution_count": 1,
   "metadata": {},
   "outputs": [],
   "source": [
    "import torch\n",
    "import torch.nn as nn\n",
    "from torch.autograd import Variable\n",
    "import torchvision.datasets as dset\n",
    "import torchvision.transforms as transforms\n",
    "import torch.nn.functional as F\n",
    "import torch.optim as optim"
   ]
  },
  {
   "cell_type": "markdown",
   "metadata": {},
   "source": [
    "# Load MNIST Dataset"
   ]
  },
  {
   "cell_type": "code",
   "execution_count": 2,
   "metadata": {},
   "outputs": [],
   "source": [
    "trans = transforms.Compose([transforms.ToTensor(), transforms.Normalize((0.5,), (1.0,))])\n",
    "train_set = dset.MNIST(root='./data', train=True, transform=trans, download=True)\n",
    "test_set = dset.MNIST(root='./data', train=False, transform=trans)\n",
    "\n",
    "batch_size = 128\n",
    "\n",
    "train_loader = torch.utils.data.DataLoader(\n",
    "                 dataset=train_set,\n",
    "                 batch_size=batch_size,\n",
    "                 shuffle=True)\n",
    "test_loader = torch.utils.data.DataLoader(\n",
    "                dataset=test_set,\n",
    "                batch_size=batch_size,\n",
    "                shuffle=False)\n"
   ]
  },
  {
   "cell_type": "markdown",
   "metadata": {},
   "source": [
    "# Build RNN Model\n",
    "![](images/RNN.png)"
   ]
  },
  {
   "cell_type": "code",
   "execution_count": 3,
   "metadata": {},
   "outputs": [],
   "source": [
    "class RNN(nn.Module):\n",
    "    def __init__(self,input_size=28,hidden_size=64,n_class=10):\n",
    "        super(RNN, self).__init__()\n",
    "        self.RNN = nn.GRU(\n",
    "            input_size = input_size,\n",
    "            hidden_size = hidden_size,\n",
    "            batch_first = True\n",
    "        )\n",
    "        self.fc = nn.Linear(hidden_size,10)\n",
    "    \n",
    "    def forward(self, x):\n",
    "        x = x.squeeze()       # x:(batch_size,1,28,28) => x:(batch_size,28,28)\n",
    "        out, _ = self.RNN(x)  # x:(batch_size,28,28) => out:(batch_size,28,hidden_size)  \n",
    "        # get last hidden\n",
    "        out = out[:, -1, :]   # out:(batch_size,hidden_size)\n",
    "        logits = self.fc(out)\n",
    "        return logits\n"
   ]
  },
  {
   "cell_type": "markdown",
   "metadata": {},
   "source": [
    "# Training"
   ]
  },
  {
   "cell_type": "code",
   "execution_count": 4,
   "metadata": {},
   "outputs": [
    {
     "name": "stdout",
     "output_type": "stream",
     "text": [
      "==>>> epoch: 0, batch index: 100, train loss: 1.481127\n",
      "==>>> epoch: 0, batch index: 200, train loss: 0.799926\n",
      "==>>> epoch: 0, batch index: 300, train loss: 0.561906\n",
      "==>>> epoch: 0, batch index: 400, train loss: 0.437470\n",
      "==>>> epoch: 0, batch index: 469, train loss: 0.402823\n",
      "==>>> epoch: 0, batch index: 79, test loss: 0.316786, acc: 0.889\n",
      "==>>> epoch: 1, batch index: 100, train loss: 0.330944\n",
      "==>>> epoch: 1, batch index: 200, train loss: 0.280307\n",
      "==>>> epoch: 1, batch index: 300, train loss: 0.234186\n",
      "==>>> epoch: 1, batch index: 400, train loss: 0.226141\n",
      "==>>> epoch: 1, batch index: 469, train loss: 0.215579\n",
      "==>>> epoch: 1, batch index: 79, test loss: 0.174038, acc: 0.940\n",
      "==>>> epoch: 2, batch index: 100, train loss: 0.211807\n",
      "==>>> epoch: 2, batch index: 200, train loss: 0.179505\n",
      "==>>> epoch: 2, batch index: 300, train loss: 0.200663\n",
      "==>>> epoch: 2, batch index: 400, train loss: 0.155425\n",
      "==>>> epoch: 2, batch index: 469, train loss: 0.153705\n",
      "==>>> epoch: 2, batch index: 79, test loss: 0.135865, acc: 0.958\n",
      "==>>> epoch: 3, batch index: 100, train loss: 0.138104\n",
      "==>>> epoch: 3, batch index: 200, train loss: 0.138753\n",
      "==>>> epoch: 3, batch index: 300, train loss: 0.144429\n",
      "==>>> epoch: 3, batch index: 400, train loss: 0.144797\n",
      "==>>> epoch: 3, batch index: 469, train loss: 0.134671\n",
      "==>>> epoch: 3, batch index: 79, test loss: 0.096449, acc: 0.963\n",
      "==>>> epoch: 4, batch index: 100, train loss: 0.129440\n",
      "==>>> epoch: 4, batch index: 200, train loss: 0.119578\n",
      "==>>> epoch: 4, batch index: 300, train loss: 0.119922\n",
      "==>>> epoch: 4, batch index: 400, train loss: 0.105104\n",
      "==>>> epoch: 4, batch index: 469, train loss: 0.119583\n",
      "==>>> epoch: 4, batch index: 79, test loss: 0.099799, acc: 0.965\n",
      "==>>> epoch: 5, batch index: 100, train loss: 0.099435\n",
      "==>>> epoch: 5, batch index: 200, train loss: 0.123647\n",
      "==>>> epoch: 5, batch index: 300, train loss: 0.110413\n",
      "==>>> epoch: 5, batch index: 400, train loss: 0.091828\n",
      "==>>> epoch: 5, batch index: 469, train loss: 0.086275\n",
      "==>>> epoch: 5, batch index: 79, test loss: 0.088442, acc: 0.967\n",
      "==>>> epoch: 6, batch index: 100, train loss: 0.094481\n",
      "==>>> epoch: 6, batch index: 200, train loss: 0.079921\n",
      "==>>> epoch: 6, batch index: 300, train loss: 0.080114\n",
      "==>>> epoch: 6, batch index: 400, train loss: 0.083066\n",
      "==>>> epoch: 6, batch index: 469, train loss: 0.091524\n",
      "==>>> epoch: 6, batch index: 79, test loss: 0.080812, acc: 0.970\n",
      "==>>> epoch: 7, batch index: 100, train loss: 0.078433\n",
      "==>>> epoch: 7, batch index: 200, train loss: 0.087341\n",
      "==>>> epoch: 7, batch index: 300, train loss: 0.085088\n",
      "==>>> epoch: 7, batch index: 400, train loss: 0.078418\n",
      "==>>> epoch: 7, batch index: 469, train loss: 0.065318\n",
      "==>>> epoch: 7, batch index: 79, test loss: 0.063208, acc: 0.975\n",
      "==>>> epoch: 8, batch index: 100, train loss: 0.067871\n",
      "==>>> epoch: 8, batch index: 200, train loss: 0.074095\n",
      "==>>> epoch: 8, batch index: 300, train loss: 0.085623\n",
      "==>>> epoch: 8, batch index: 400, train loss: 0.071997\n",
      "==>>> epoch: 8, batch index: 469, train loss: 0.064225\n",
      "==>>> epoch: 8, batch index: 79, test loss: 0.055973, acc: 0.979\n",
      "==>>> epoch: 9, batch index: 100, train loss: 0.054916\n",
      "==>>> epoch: 9, batch index: 200, train loss: 0.071445\n",
      "==>>> epoch: 9, batch index: 300, train loss: 0.052794\n",
      "==>>> epoch: 9, batch index: 400, train loss: 0.049552\n",
      "==>>> epoch: 9, batch index: 469, train loss: 0.064583\n",
      "==>>> epoch: 9, batch index: 79, test loss: 0.063740, acc: 0.976\n"
     ]
    }
   ],
   "source": [
    "model = RNN()\n",
    "criterion = nn.CrossEntropyLoss()\n",
    "optimizer = optim.Adam(model.parameters(), lr=1e-3)\n",
    "\n",
    "for epoch in xrange(10):\n",
    "    # trainning\n",
    "    ave_loss = 0\n",
    "    for batch_idx, (x, target) in enumerate(train_loader):\n",
    "        optimizer.zero_grad()\n",
    "        x, target = Variable(x), Variable(target)\n",
    "        logits = model(x)\n",
    "        loss = criterion(logits, target)\n",
    "        ave_loss = ave_loss * 0.9 + loss.data[0] * 0.1\n",
    "        loss.backward()\n",
    "        optimizer.step()\n",
    "        if (batch_idx+1) % 100 == 0 or (batch_idx+1) == len(train_loader):\n",
    "            print '==>>> epoch: {}, batch index: {}, train loss: {:.6f}'.format(\n",
    "                epoch, batch_idx+1, ave_loss)\n",
    "    # testing\n",
    "    correct_cnt, ave_loss = 0, 0\n",
    "    total_cnt = 0\n",
    "    for batch_idx, (x, target) in enumerate(test_loader):\n",
    "        x, target = Variable(x, volatile=True), Variable(target, volatile=True)\n",
    "        logits = model(x)\n",
    "        loss = criterion(logits, target)\n",
    "        _, pred_label = torch.max(logits.data, 1)\n",
    "        total_cnt += x.data.size()[0]\n",
    "        correct_cnt += (pred_label == target.data).sum()\n",
    "        # smooth average\n",
    "        ave_loss = ave_loss * 0.9 + loss.data[0] * 0.1\n",
    "        \n",
    "        if(batch_idx+1) % 100 == 0 or (batch_idx+1) == len(test_loader):\n",
    "            print '==>>> epoch: {}, batch index: {}, test loss: {:.6f}, acc: {:.3f}'.format(\n",
    "                epoch, batch_idx+1, ave_loss, correct_cnt * 1.0 / total_cnt)"
   ]
  }
 ],
 "metadata": {
  "celltoolbar": "Tags",
  "kernelspec": {
   "display_name": "Python 2",
   "language": "python",
   "name": "python2"
  },
  "language_info": {
   "codemirror_mode": {
    "name": "ipython",
    "version": 2
   },
   "file_extension": ".py",
   "mimetype": "text/x-python",
   "name": "python",
   "nbconvert_exporter": "python",
   "pygments_lexer": "ipython2",
   "version": "2.7.12"
  }
 },
 "nbformat": 4,
 "nbformat_minor": 2
}
